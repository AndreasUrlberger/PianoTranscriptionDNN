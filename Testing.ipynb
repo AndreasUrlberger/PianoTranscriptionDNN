{
 "cells": [
  {
   "cell_type": "code",
   "execution_count": null,
   "metadata": {},
   "outputs": [],
   "source": [
    "%load_ext autoreload\n",
    "%autoreload 2\n",
    "\n",
    "import torch\n",
    "import torchaudio\n",
    "import numpy as np\n",
    "from mido import MidiFile, MidiTrack, Message\n",
    "import matplotlib.pyplot as plt\n",
    "import librosa\n",
    "\n",
    "from Dataset import MidiDataset\n",
    "import MidiUtils as mu\n",
    "from Note import Note\n",
    "from Song import Song\n",
    "\n",
    "dataset_path = \"/Users/andreas/Development/Midi-Conversion/maestro-v3.0.0\"\n",
    "workspace = \"/Users/andreas/Development/Midi-Conversion/PianoTranscription\""
   ]
  },
  {
   "cell_type": "code",
   "execution_count": null,
   "metadata": {},
   "outputs": [],
   "source": [
    "MidiDataset.create_dataset_files(dataset_path, dataset_path)"
   ]
  },
  {
   "cell_type": "code",
   "execution_count": null,
   "metadata": {},
   "outputs": [],
   "source": [
    "train_set = MidiDataset(dataset_path, \"train\")\n",
    "val_set = MidiDataset(dataset_path, \"validation\")\n",
    "test_set = MidiDataset(dataset_path, \"test\")\n",
    "\n",
    "audio_path = train_set.get_audio_path(0)\n",
    "midi_path = train_set.get_midi_path(0)\n",
    "\n",
    "metadata = torchaudio.info(audio_path)\n",
    "print(\"Train file 0: \", metadata)\n"
   ]
  },
  {
   "cell_type": "code",
   "execution_count": null,
   "metadata": {},
   "outputs": [],
   "source": [
    "metadata = torchaudio.info('./Planet_Earth_II.mp3')\n",
    "print(\"Test file: \", metadata)"
   ]
  },
  {
   "cell_type": "code",
   "execution_count": null,
   "metadata": {},
   "outputs": [],
   "source": [
    "waveform, sample_rate = torchaudio.load(audio_path)\n",
    "\n",
    "import PlotUtils\n",
    "PlotUtils.print_stats(waveform, sample_rate=sample_rate)\n",
    "PlotUtils.plot_waveform(waveform[:, int(2.5*sample_rate):int(7.5*sample_rate)], sample_rate)\n",
    "PlotUtils.plot_specgram(waveform[:, int(2.5*sample_rate):int(7.5*sample_rate)], sample_rate)\n",
    "PlotUtils.play_audio(waveform, sample_rate)"
   ]
  },
  {
   "cell_type": "code",
   "execution_count": null,
   "metadata": {},
   "outputs": [],
   "source": [
    "from mido import MidiFile, MidiTrack, Message\n",
    "\n",
    "\n",
    "midi = MidiFile(midi_path, clip=True)\n",
    "print('Filename: {}, length: {}'.format(midi.filename, midi.length))\n",
    "print(\"Number of tracks: {}\".format(len(midi.tracks)))\n",
    "\n",
    "mu.print_midi_info(midi_path)\n",
    "notes = Note.midi_to_notes(midi)"
   ]
  },
  {
   "cell_type": "code",
   "execution_count": null,
   "metadata": {},
   "outputs": [],
   "source": [
    "tempo = 500000\n",
    "midi.tracks[0]\n",
    "for msg in midi.tracks[0]:\n",
    "    if msg.type == 'set_tempo':\n",
    "        tempo = msg.tempo\n",
    "        break\n",
    "\n",
    "\n",
    "song = Song(notes, midi.length, ticks_per_beat=midi.ticks_per_beat, tempo=tempo)  \n",
    "print(\"song: \", song)\n",
    "midi_tensor = song.to_start_time_tensor(discretization_step=100)  "
   ]
  },
  {
   "cell_type": "code",
   "execution_count": null,
   "metadata": {},
   "outputs": [],
   "source": [
    "# Print occuring notes\n",
    "occuring_notes = torch.max(midi_tensor, axis=0).values\n",
    "for i in range(128):\n",
    "    hasNoteOccured = occuring_notes[i] > 0\n",
    "    print(f'Has note {i} occured: {bool(hasNoteOccured)}')\n",
    "\n"
   ]
  },
  {
   "cell_type": "code",
   "execution_count": null,
   "metadata": {},
   "outputs": [],
   "source": [
    "  \n",
    "anyNotePlayed = torch.max(midi_tensor, dim=1).values\n",
    "\n",
    "for i in range(len(anyNotePlayed)):\n",
    "    print(\"Time: \", i, \"Any note played: \", bool(anyNotePlayed[i]))\n",
    "    \n",
    "# Get times at which any note is played\n",
    "times = torch.nonzero(anyNotePlayed).flatten()\n",
    "print(\"Times at which any note is played: \", times)"
   ]
  },
  {
   "cell_type": "code",
   "execution_count": null,
   "metadata": {},
   "outputs": [],
   "source": [
    "PlotUtils.plot_tensor_as_image(midi_tensor.T)"
   ]
  },
  {
   "cell_type": "code",
   "execution_count": null,
   "metadata": {},
   "outputs": [],
   "source": [
    "y, sr = librosa.load(audio_path)\n",
    "C = np.abs(librosa.cqt(y, sr=sr))\n",
    "fig, ax = plt.subplots()\n",
    "img = librosa.display.specshow(librosa.amplitude_to_db(C, ref=np.max),\n",
    "                               sr=sr, x_axis='time', y_axis='cqt_note', ax=ax)\n",
    "ax.set_title('Constant-Q power spectrum')\n",
    "fig.colorbar(img, ax=ax, format=\"%+2.0f dB\")\n",
    "\n",
    "# Set figsize\n",
    "fig.set_figwidth(400)\n",
    "fig.set_figheight(6)"
   ]
  },
  {
   "cell_type": "code",
   "execution_count": null,
   "metadata": {},
   "outputs": [],
   "source": [
    "audio_tensor, midi_tensor = train_set[0]\n",
    "print(f\"Audio tensor shape: {audio_tensor.shape}, midi tensor shape: {midi_tensor.shape}\")"
   ]
  }
 ],
 "metadata": {
  "kernelspec": {
   "display_name": "PianoTranscription",
   "language": "python",
   "name": "python3"
  },
  "language_info": {
   "codemirror_mode": {
    "name": "ipython",
    "version": 3
   },
   "file_extension": ".py",
   "mimetype": "text/x-python",
   "name": "python",
   "nbconvert_exporter": "python",
   "pygments_lexer": "ipython3",
   "version": "3.8.18"
  }
 },
 "nbformat": 4,
 "nbformat_minor": 2
}
