{
 "cells": [
  {
   "cell_type": "code",
   "execution_count": null,
   "metadata": {},
   "outputs": [],
   "source": [
    "%load_ext autoreload\n",
    "%autoreload 2\n",
    "\n",
    "import torch\n",
    "import torchaudio\n",
    "import numpy as np\n",
    "from mido import MidiFile, MidiTrack, Message\n",
    "import matplotlib.pyplot as plt\n",
    "import librosa\n",
    "import timeit\n",
    "\n",
    "from data.Dataset import MidiDataset, DatasetUtils, MidiIterDataset\n",
    "import MidiUtils as mu\n",
    "from data.Note import Note\n",
    "from data.Song import Song\n",
    "import PlotUtils\n",
    "\n",
    "dataset_path = \"/Users/andreas/Development/Midi-Conversion/maestro-v3.0.0\"\n",
    "workspace = \"/Users/andreas/Development/Midi-Conversion/PianoTranscription\"\n",
    "\n",
    "# Computing the total length of the dataset is expensive, so we cache it here\n",
    "TRAIN_SET_TOTAL_LENGTH_DISCRETIZED_100 = 57412301\n",
    "VAL_SET_TOTAL_LENGTH_DISCRETIZED_100 = 7009869\n",
    "TEST_SET_TOTAL_LENGTH_DISCRETIZED_100 = 7214840"
   ]
  },
  {
   "cell_type": "markdown",
   "metadata": {},
   "source": [
    "### Precompute dataset paths files and midi files"
   ]
  },
  {
   "cell_type": "code",
   "execution_count": null,
   "metadata": {},
   "outputs": [],
   "source": [
    "DatasetUtils.create_dataset_files(dataset_path, dataset_path)\n",
    "discretization = 100"
   ]
  },
  {
   "cell_type": "code",
   "execution_count": null,
   "metadata": {},
   "outputs": [],
   "source": [
    "# # Precompute midi dataset\n",
    "# # Read train, val, test split paths\n",
    "# with open(f\"{dataset_path}/train.txt\", \"r\") as f:\n",
    "#     train_midi_paths = f.read().splitlines()[1::2]\n",
    "# with open(f\"{dataset_path}/validation.txt\", \"r\") as f:\n",
    "#     val_midi_paths = f.read().splitlines()[1::2]\n",
    "# with open(f\"{dataset_path}/test.txt\", \"r\") as f:\n",
    "#     test_midi_paths = f.read().splitlines()[1::2]\n",
    "\n",
    "# paths = train_midi_paths + val_midi_paths + test_midi_paths\n",
    "\n",
    "# DatasetUtils.preprocess_midi_dataset(paths, discretization=discretization)"
   ]
  },
  {
   "cell_type": "code",
   "execution_count": null,
   "metadata": {},
   "outputs": [],
   "source": [
    "train_set = MidiDataset(dataset_path, \"train\", discretization=discretization)\n",
    "val_set = MidiDataset(dataset_path, \"validation\", discretization=discretization)\n",
    "test_set = MidiDataset(dataset_path, \"test\", discretization=discretization)\n",
    "\n",
    "audio_path = train_set.get_audio_path(0)\n",
    "midi_path = train_set.get_midi_path(0)\n",
    "\n",
    "metadata = torchaudio.info(audio_path)\n",
    "print(\"Train file 0: \", metadata)\n"
   ]
  },
  {
   "cell_type": "code",
   "execution_count": null,
   "metadata": {},
   "outputs": [],
   "source": [
    "waveform, sample_rate = torchaudio.load(audio_path)\n",
    "\n",
    "PlotUtils.print_stats(waveform, sample_rate=sample_rate)\n",
    "PlotUtils.plot_waveform(waveform[:, int(2.5*sample_rate):int(7.5*sample_rate)], sample_rate)\n",
    "PlotUtils.plot_specgram(waveform[:, int(2.5*sample_rate):int(7.5*sample_rate)], sample_rate)\n",
    "PlotUtils.play_audio(waveform, sample_rate)"
   ]
  },
  {
   "cell_type": "code",
   "execution_count": null,
   "metadata": {},
   "outputs": [],
   "source": [
    "midi = MidiFile(midi_path, clip=True)\n",
    "print('Filename: {}, length: {}'.format(midi.filename, midi.length))\n",
    "print(\"Number of tracks: {}\".format(len(midi.tracks)))\n",
    "\n",
    "mu.print_midi_info(midi_path)\n",
    "notes = Note.midi_to_notes(midi)"
   ]
  },
  {
   "cell_type": "code",
   "execution_count": null,
   "metadata": {},
   "outputs": [],
   "source": [
    "tempo = 500000\n",
    "midi.tracks[0]\n",
    "for msg in midi.tracks[0]:\n",
    "    if msg.type == 'set_tempo':\n",
    "        tempo = msg.tempo\n",
    "        break\n",
    "\n",
    "\n",
    "song = Song(notes, midi.length, ticks_per_beat=midi.ticks_per_beat, tempo=tempo)  \n",
    "print(\"song: \", song)\n",
    "midi_tensor = song.to_start_time_tensor(discretization_step=100)  "
   ]
  },
  {
   "cell_type": "code",
   "execution_count": null,
   "metadata": {},
   "outputs": [],
   "source": [
    "# Print occuring notes\n",
    "occuring_notes = torch.max(midi_tensor, axis=0).values\n",
    "notes = torch.nonzero(occuring_notes).flatten()\n",
    "print(\"Occuring notes: \", notes)\n",
    "\n"
   ]
  },
  {
   "cell_type": "code",
   "execution_count": null,
   "metadata": {},
   "outputs": [],
   "source": [
    "  \n",
    "anyNotePlayed = torch.max(midi_tensor, dim=1).values\n",
    "    \n",
    "# Get times at which any note is played\n",
    "times = torch.nonzero(anyNotePlayed).flatten()\n",
    "print(\"Times at which any note is played: \", times)"
   ]
  },
  {
   "cell_type": "code",
   "execution_count": null,
   "metadata": {},
   "outputs": [],
   "source": [
    "PlotUtils.plot_tensor_as_image(midi_tensor.T)"
   ]
  },
  {
   "cell_type": "code",
   "execution_count": null,
   "metadata": {},
   "outputs": [],
   "source": [
    "y, sr = librosa.load(audio_path)\n",
    "C = np.abs(librosa.cqt(y, sr=sr))\n",
    "fig, ax = plt.subplots()\n",
    "img = librosa.display.specshow(librosa.amplitude_to_db(C, ref=np.max),\n",
    "                               sr=sr, x_axis='time', y_axis='cqt_note', ax=ax)\n",
    "ax.set_title('Constant-Q power spectrum')\n",
    "fig.colorbar(img, ax=ax, format=\"%+2.0f dB\")\n",
    "\n",
    "# Set figsize\n",
    "fig.set_figwidth(100)\n",
    "fig.set_figheight(6)"
   ]
  },
  {
   "cell_type": "code",
   "execution_count": null,
   "metadata": {},
   "outputs": [],
   "source": [
    "train_set = MidiDataset(dataset_path, \"train\", discretization=100)\n",
    "midi_path = train_set.get_midi_path(0)\n",
    "midi = MidiFile(midi_path, clip=True)\n",
    "notes = Note.midi_to_notes(midi)\n",
    "song = Song(notes, midi.length, ticks_per_beat=midi.ticks_per_beat, tempo=500000)"
   ]
  },
  {
   "cell_type": "code",
   "execution_count": null,
   "metadata": {},
   "outputs": [],
   "source": [
    "%%timeit\n",
    "\n",
    "midi = MidiFile(midi_path, clip=True)"
   ]
  },
  {
   "cell_type": "code",
   "execution_count": null,
   "metadata": {},
   "outputs": [],
   "source": [
    "%%timeit\n",
    "\n",
    "notes = Note.midi_to_notes(midi)"
   ]
  },
  {
   "cell_type": "code",
   "execution_count": null,
   "metadata": {},
   "outputs": [],
   "source": [
    "%%timeit\n",
    "\n",
    "song = Song(notes, midi.length, ticks_per_beat=midi.ticks_per_beat, tempo=500_000)"
   ]
  },
  {
   "cell_type": "code",
   "execution_count": null,
   "metadata": {},
   "outputs": [],
   "source": [
    "midi_tensor = song.to_start_time_tensor_faster(discretization_step=100)"
   ]
  },
  {
   "cell_type": "code",
   "execution_count": null,
   "metadata": {},
   "outputs": [],
   "source": [
    "%%timeit\n",
    "\n",
    "midi_tensor = song.to_start_time_tensor_faster(discretization_step=100)"
   ]
  },
  {
   "cell_type": "code",
   "execution_count": null,
   "metadata": {},
   "outputs": [],
   "source": [
    "%%timeit\n",
    "\n",
    "midi_tensor = song.to_start_time_tensor(discretization_step=100)"
   ]
  },
  {
   "cell_type": "code",
   "execution_count": null,
   "metadata": {},
   "outputs": [],
   "source": [
    "basis = torch.tensor([1, 2, 3, 4, 5])\n",
    "comp = torch.tensor([2, 3]).unsqueeze(1)\n",
    "\n",
    "print(f'basis shape {basis.shape}, comp shape {comp.shape}')\n",
    "\n",
    "basis > comp"
   ]
  },
  {
   "cell_type": "markdown",
   "metadata": {},
   "source": [
    "## Profile Code"
   ]
  },
  {
   "cell_type": "code",
   "execution_count": null,
   "metadata": {},
   "outputs": [],
   "source": [
    "import cProfile\n",
    "cProfile.run('song.to_start_time_tensor_faster(discretization_step=100)')"
   ]
  }
 ],
 "metadata": {
  "kernelspec": {
   "display_name": "PianoTranscription",
   "language": "python",
   "name": "python3"
  },
  "language_info": {
   "codemirror_mode": {
    "name": "ipython",
    "version": 3
   },
   "file_extension": ".py",
   "mimetype": "text/x-python",
   "name": "python",
   "nbconvert_exporter": "python",
   "pygments_lexer": "ipython3",
   "version": "3.8.18"
  }
 },
 "nbformat": 4,
 "nbformat_minor": 2
}
